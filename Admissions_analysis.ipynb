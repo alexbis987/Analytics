{
 "cells": [
  {
   "cell_type": "code",
   "execution_count": 20,
   "metadata": {
    "collapsed": true
   },
   "outputs": [],
   "source": [
    "import pandas as pd\n",
    "import scipy.stats as scs\n",
    "import numpy as np\n",
    "import matplotlib.pyplot as plt\n",
    "import sys"
   ]
  },
  {
   "cell_type": "code",
   "execution_count": 18,
   "metadata": {
    "collapsed": true
   },
   "outputs": [],
   "source": [
    "df = pd.read_csv('admissions.csv')"
   ]
  },
  {
   "cell_type": "code",
   "execution_count": 38,
   "metadata": {},
   "outputs": [
    {
     "data": {
      "text/html": [
       "<div>\n",
       "<style>\n",
       "    .dataframe thead tr:only-child th {\n",
       "        text-align: right;\n",
       "    }\n",
       "\n",
       "    .dataframe thead th {\n",
       "        text-align: left;\n",
       "    }\n",
       "\n",
       "    .dataframe tbody tr th {\n",
       "        vertical-align: top;\n",
       "    }\n",
       "</style>\n",
       "<table border=\"1\" class=\"dataframe\">\n",
       "  <thead>\n",
       "    <tr style=\"text-align: right;\">\n",
       "      <th></th>\n",
       "      <th>family_income</th>\n",
       "      <th>gpa</th>\n",
       "      <th>parent_avg_age</th>\n",
       "      <th>family_income_cat</th>\n",
       "    </tr>\n",
       "  </thead>\n",
       "  <tbody>\n",
       "    <tr>\n",
       "      <th>0</th>\n",
       "      <td>31402.0</td>\n",
       "      <td>3.18</td>\n",
       "      <td>32</td>\n",
       "      <td>medium</td>\n",
       "    </tr>\n",
       "    <tr>\n",
       "      <th>1</th>\n",
       "      <td>32247.0</td>\n",
       "      <td>2.98</td>\n",
       "      <td>48</td>\n",
       "      <td>medium</td>\n",
       "    </tr>\n",
       "    <tr>\n",
       "      <th>2</th>\n",
       "      <td>34732.0</td>\n",
       "      <td>2.85</td>\n",
       "      <td>61</td>\n",
       "      <td>medium</td>\n",
       "    </tr>\n",
       "    <tr>\n",
       "      <th>3</th>\n",
       "      <td>53759.0</td>\n",
       "      <td>3.39</td>\n",
       "      <td>62</td>\n",
       "      <td>high</td>\n",
       "    </tr>\n",
       "    <tr>\n",
       "      <th>4</th>\n",
       "      <td>50952.0</td>\n",
       "      <td>3.10</td>\n",
       "      <td>45</td>\n",
       "      <td>high</td>\n",
       "    </tr>\n",
       "  </tbody>\n",
       "</table>\n",
       "</div>"
      ],
      "text/plain": [
       "   family_income   gpa  parent_avg_age family_income_cat\n",
       "0        31402.0  3.18              32            medium\n",
       "1        32247.0  2.98              48            medium\n",
       "2        34732.0  2.85              61            medium\n",
       "3        53759.0  3.39              62              high\n",
       "4        50952.0  3.10              45              high"
      ]
     },
     "execution_count": 38,
     "metadata": {},
     "output_type": "execute_result"
    }
   ],
   "source": [
    "df.head(5)"
   ]
  },
  {
   "cell_type": "code",
   "execution_count": 21,
   "metadata": {},
   "outputs": [
    {
     "name": "stdout",
     "output_type": "stream",
     "text": [
      "4015.2990850274814\n",
      "-1226.3262797340346\n",
      "-0.028785259926177496\n"
     ]
    },
    {
     "data": {
      "text/html": [
       "<div>\n",
       "<style>\n",
       "    .dataframe thead tr:only-child th {\n",
       "        text-align: right;\n",
       "    }\n",
       "\n",
       "    .dataframe thead th {\n",
       "        text-align: left;\n",
       "    }\n",
       "\n",
       "    .dataframe tbody tr th {\n",
       "        vertical-align: top;\n",
       "    }\n",
       "</style>\n",
       "<table border=\"1\" class=\"dataframe\">\n",
       "  <thead>\n",
       "    <tr style=\"text-align: right;\">\n",
       "      <th></th>\n",
       "      <th>family_income</th>\n",
       "      <th>gpa</th>\n",
       "      <th>parent_avg_age</th>\n",
       "    </tr>\n",
       "  </thead>\n",
       "  <tbody>\n",
       "    <tr>\n",
       "      <th>family_income</th>\n",
       "      <td>3.329410e+08</td>\n",
       "      <td>4015.299085</td>\n",
       "      <td>-1226.326280</td>\n",
       "    </tr>\n",
       "    <tr>\n",
       "      <th>gpa</th>\n",
       "      <td>4.015299e+03</td>\n",
       "      <td>0.087891</td>\n",
       "      <td>-0.028785</td>\n",
       "    </tr>\n",
       "    <tr>\n",
       "      <th>parent_avg_age</th>\n",
       "      <td>-1.226326e+03</td>\n",
       "      <td>-0.028785</td>\n",
       "      <td>112.977442</td>\n",
       "    </tr>\n",
       "  </tbody>\n",
       "</table>\n",
       "</div>"
      ],
      "text/plain": [
       "                family_income          gpa  parent_avg_age\n",
       "family_income    3.329410e+08  4015.299085    -1226.326280\n",
       "gpa              4.015299e+03     0.087891       -0.028785\n",
       "parent_avg_age  -1.226326e+03    -0.028785      112.977442"
      ]
     },
     "execution_count": 21,
     "metadata": {},
     "output_type": "execute_result"
    }
   ],
   "source": [
    "#computed the covariance between gpa, parent avg age and family income\n",
    "def covariance(x1, x2):\n",
    "    return np.sum((x1 - np.mean(x1)) * (x2 - np.mean(x2))) / (len(x1) - 1.)\n",
    "   \n",
    "print (covariance(df.family_income, df.gpa))\n",
    "print (covariance(df.family_income, df.parent_avg_age))\n",
    "print (covariance(df.gpa, df.parent_avg_age))\n",
    "\n",
    "#Check your results\n",
    "df.cov()"
   ]
  },
  {
   "cell_type": "code",
   "execution_count": 22,
   "metadata": {},
   "outputs": [
    {
     "name": "stdout",
     "output_type": "stream",
     "text": [
      "0.7423369244946509\n",
      "-0.006323623565167678\n",
      "-0.00913568508579032\n"
     ]
    },
    {
     "data": {
      "text/html": [
       "<div>\n",
       "<style>\n",
       "    .dataframe thead tr:only-child th {\n",
       "        text-align: right;\n",
       "    }\n",
       "\n",
       "    .dataframe thead th {\n",
       "        text-align: left;\n",
       "    }\n",
       "\n",
       "    .dataframe tbody tr th {\n",
       "        vertical-align: top;\n",
       "    }\n",
       "</style>\n",
       "<table border=\"1\" class=\"dataframe\">\n",
       "  <thead>\n",
       "    <tr style=\"text-align: right;\">\n",
       "      <th></th>\n",
       "      <th>family_income</th>\n",
       "      <th>gpa</th>\n",
       "      <th>parent_avg_age</th>\n",
       "    </tr>\n",
       "  </thead>\n",
       "  <tbody>\n",
       "    <tr>\n",
       "      <th>family_income</th>\n",
       "      <td>1.000000</td>\n",
       "      <td>0.742269</td>\n",
       "      <td>-0.006323</td>\n",
       "    </tr>\n",
       "    <tr>\n",
       "      <th>gpa</th>\n",
       "      <td>0.742269</td>\n",
       "      <td>1.000000</td>\n",
       "      <td>-0.009135</td>\n",
       "    </tr>\n",
       "    <tr>\n",
       "      <th>parent_avg_age</th>\n",
       "      <td>-0.006323</td>\n",
       "      <td>-0.009135</td>\n",
       "      <td>1.000000</td>\n",
       "    </tr>\n",
       "  </tbody>\n",
       "</table>\n",
       "</div>"
      ],
      "text/plain": [
       "                family_income       gpa  parent_avg_age\n",
       "family_income        1.000000  0.742269       -0.006323\n",
       "gpa                  0.742269  1.000000       -0.009135\n",
       "parent_avg_age      -0.006323 -0.009135        1.000000"
      ]
     },
     "execution_count": 22,
     "metadata": {},
     "output_type": "execute_result"
    }
   ],
   "source": [
    "def correlation(x1, x2):\n",
    "    std_prod = np.std(x1) * np.std(x2)\n",
    "    covar = covariance(x1, x2)\n",
    "    return covar / std_prod\n",
    "\n",
    "print (correlation(df.family_income, df.gpa))\n",
    "print (correlation(df.family_income, df.parent_avg_age))\n",
    "print (correlation(df.gpa, df.parent_avg_age))\n",
    "\n",
    "#Checking the results\n",
    "df.corr()\n"
   ]
  },
  {
   "cell_type": "code",
   "execution_count": 23,
   "metadata": {
    "collapsed": true
   },
   "outputs": [],
   "source": [
    "# Categorize the family income\n",
    "def income_category(income):\n",
    "    if income <= 26832:\n",
    "        return 'low'\n",
    "    elif income <= 37510:\n",
    "        return 'medium'\n",
    "    else:\n",
    "        return 'high'\n",
    "# Apply the categorization and define a new column \n",
    "df['family_income_cat'] = df.family_income.apply(income_category)\n",
    "\n",
    "# Alternatively, we can use pandas' cut function to bin the data\n",
    "max_income = df['family_income'].max()\n",
    "df['family_income_cat']=pd.cut(np.array(df['family_income']), [0,26382,37510,max_income], \n",
    "                               labels=[\"low\",\"medium\",\"high\"])\n",
    "\n",
    "                            "
   ]
  },
  {
   "cell_type": "code",
   "execution_count": 24,
   "metadata": {},
   "outputs": [
    {
     "data": {
      "image/png": "[encoded data removed]",
      "text/plain": [
       "<matplotlib.figure.Figure at 0x119d739b0>"
      ]
     },
     "metadata": {},
     "output_type": "display_data"
    }
   ],
   "source": [
    "# The conditional distribution of GPA given an income class\n",
    "low_income_gpa = df[df['family_income_cat'] == 'low'].gpa\n",
    "medium_income_gpa = df[df['family_income_cat'] == 'medium'].gpa\n",
    "high_income_gpa = df[df['family_income_cat'] == 'high'].gpa\n",
    "\n",
    "# Plotting the distributions\n",
    "from scipy.stats.kde import gaussian_kde\n",
    "def plot_smooth(gpa_samp, label):\n",
    "    my_pdf = gaussian_kde(gpa_samp)\n",
    "    x = np.linspace(min(gpa_samp) , max(gpa_samp))\n",
    "    plt.plot(x, my_pdf(x), label=label)\n",
    " \n",
    "fig = plt.figure(figsize=(12, 5))\n",
    "plot_smooth(low_income_gpa, 'low income')\n",
    "plot_smooth(medium_income_gpa, 'medium income')\n",
    "plot_smooth(high_income_gpa, 'high income')\n",
    "plt.xlabel('GPA', fontsize=14, fontweight='bold')\n",
    "plt.ylabel('Probability Density', fontsize=14, fontweight='bold')\n",
    "plt.legend()\n",
    "plt.show()"
   ]
  },
  {
   "cell_type": "code",
   "execution_count": 25,
   "metadata": {},
   "outputs": [
    {
     "name": "stdout",
     "output_type": "stream",
     "text": [
      "90th percentile GPA for low income class 2.99\n",
      "90th percentile GPA for medium income class 3.25\n",
      "90th percentile GPA for high income class 3.49\n"
     ]
    }
   ],
   "source": [
    "# The 90th percentile GPA for each class\n",
    "print ('90th percentile GPA for low income class', np.percentile(low_income_gpa, 90))\n",
    "print ('90th percentile GPA for medium income class', np.percentile(medium_income_gpa, 90))\n",
    "print ('90th percentile GPA for high income class', np.percentile(high_income_gpa, 90))\n"
   ]
  },
  {
   "cell_type": "code",
   "execution_count": 26,
   "metadata": {},
   "outputs": [
    {
     "name": "stdout",
     "output_type": "stream",
     "text": [
      "50th percentile GPA for low income class 2.7\n",
      "50th percentile GPA for medium income class 2.93\n",
      "50th percentile GPA for high income class 3.15\n"
     ]
    }
   ],
   "source": [
    "# The 50th percentile GPA for each class\n",
    "print('50th percentile GPA for low income class', np.percentile(low_income_gpa, 50))\n",
    "print('50th percentile GPA for medium income class', np.percentile(medium_income_gpa, 50))\n",
    "print('50th percentile GPA for high income class',np.percentile(high_income_gpa, 50))"
   ]
  },
  {
   "cell_type": "code",
   "execution_count": 27,
   "metadata": {},
   "outputs": [
    {
     "name": "stdout",
     "output_type": "stream",
     "text": [
      "25th percentile GPA for low income class 2.55\n",
      "25th percentile GPA for medium income class 2.77\n",
      "25th percentile GPA for high income class 2.99\n"
     ]
    }
   ],
   "source": [
    "# The 25th percentile GPA for each class\n",
    "print('25th percentile GPA for low income class', np.percentile(low_income_gpa, 25))\n",
    "print('25th percentile GPA for medium income class', np.percentile(medium_income_gpa, 25))\n",
    "print('25th percentile GPA for high income class',np.percentile(high_income_gpa, 25))"
   ]
  },
  {
   "cell_type": "code",
   "execution_count": 28,
   "metadata": {},
   "outputs": [
    {
     "data": {
      "text/plain": [
       "0.25999999999999979"
      ]
     },
     "execution_count": 28,
     "metadata": {},
     "output_type": "execute_result"
    }
   ],
   "source": [
    "#variation from medium to low class for 90th percentile\n",
    "np.percentile(medium_income_gpa, 90) -np.percentile(low_income_gpa, 90)\n"
   ]
  },
  {
   "cell_type": "code",
   "execution_count": 29,
   "metadata": {},
   "outputs": [
    {
     "data": {
      "text/plain": [
       "0.24000000000000021"
      ]
     },
     "execution_count": 29,
     "metadata": {},
     "output_type": "execute_result"
    }
   ],
   "source": [
    "#variation from high to med class for 90th percentile\n",
    "np.percentile(high_income_gpa, 90)  - np.percentile(medium_income_gpa, 90)"
   ]
  },
  {
   "cell_type": "code",
   "execution_count": 30,
   "metadata": {},
   "outputs": [
    {
     "data": {
      "text/plain": [
       "0.22999999999999998"
      ]
     },
     "execution_count": 30,
     "metadata": {},
     "output_type": "execute_result"
    }
   ],
   "source": [
    "#variation from medium to low class for 50th percentile\n",
    "\n",
    "np.percentile(medium_income_gpa, 50) - np.percentile(low_income_gpa, 50)"
   ]
  },
  {
   "cell_type": "code",
   "execution_count": 31,
   "metadata": {},
   "outputs": [
    {
     "data": {
      "text/plain": [
       "0.22999999999999998"
      ]
     },
     "execution_count": 31,
     "metadata": {},
     "output_type": "execute_result"
    }
   ],
   "source": [
    "#variation from medium to low class for 50th percentile\n",
    "\n",
    "np.percentile(medium_income_gpa, 50) - np.percentile(low_income_gpa, 50)"
   ]
  },
  {
   "cell_type": "code",
   "execution_count": 32,
   "metadata": {},
   "outputs": [
    {
     "data": {
      "text/plain": [
       "0.2200000000000002"
      ]
     },
     "execution_count": 32,
     "metadata": {},
     "output_type": "execute_result"
    }
   ],
   "source": [
    "#variation from medium to low for 25th percentile\n",
    "np.percentile(medium_income_gpa, 25) - np.percentile(low_income_gpa, 25)"
   ]
  },
  {
   "cell_type": "code",
   "execution_count": 33,
   "metadata": {},
   "outputs": [
    {
     "data": {
      "text/plain": [
       "0.2200000000000002"
      ]
     },
     "execution_count": 33,
     "metadata": {},
     "output_type": "execute_result"
    }
   ],
   "source": [
    "#variation from medium to low for 25th percentile\n",
    "np.percentile(medium_income_gpa, 25) - np.percentile(low_income_gpa, 25)"
   ]
  },
  {
   "cell_type": "code",
   "execution_count": 34,
   "metadata": {},
   "outputs": [
    {
     "data": {
      "text/plain": [
       "0.2200000000000002"
      ]
     },
     "execution_count": 34,
     "metadata": {},
     "output_type": "execute_result"
    }
   ],
   "source": [
    "#variation from high to medium for 25th percentile\n",
    "np.percentile(high_income_gpa, 25) - np.percentile(medium_income_gpa, 25)"
   ]
  },
  {
   "cell_type": "code",
   "execution_count": 35,
   "metadata": {},
   "outputs": [
    {
     "data": {
      "text/plain": [
       "0.24995"
      ]
     },
     "execution_count": 35,
     "metadata": {},
     "output_type": "execute_result"
    }
   ],
   "source": [
    "#gpa variance between class 90th percentile\n",
    "(0.2599 + 0.2400)/2"
   ]
  },
  {
   "cell_type": "code",
   "execution_count": 36,
   "metadata": {},
   "outputs": [
    {
     "data": {
      "text/plain": [
       "0.224945"
      ]
     },
     "execution_count": 36,
     "metadata": {},
     "output_type": "execute_result"
    }
   ],
   "source": [
    "# gpa variance between class 50th percentile\n",
    "(0.2299 + 0.21999 )/2"
   ]
  },
  {
   "cell_type": "code",
   "execution_count": 37,
   "metadata": {},
   "outputs": [
    {
     "data": {
      "text/plain": [
       "0.22"
      ]
     },
     "execution_count": 37,
     "metadata": {},
     "output_type": "execute_result"
    }
   ],
   "source": [
    "#gpa variance between class 25th percentile\n",
    "(0.2200 + 0.2200)/2"
   ]
  }
 ],
 "metadata": {
  "kernelspec": {
   "display_name": "Python 3",
   "language": "python",
   "name": "python3"
  },
  "language_info": {
   "codemirror_mode": {
    "name": "ipython",
    "version": 3
   },
   "file_extension": ".py",
   "mimetype": "text/x-python",
   "name": "python",
   "nbconvert_exporter": "python",
   "pygments_lexer": "ipython3",
   "version": "3.5.3"
  }
 },
 "nbformat": 4,
 "nbformat_minor": 2
}
